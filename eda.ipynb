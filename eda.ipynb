{
 "cells": [
  {
   "cell_type": "code",
   "execution_count": 1,
   "metadata": {
    "collapsed": true
   },
   "outputs": [],
   "source": [
    "import json\n",
    "import numpy as np\n",
    "import pandas as pd"
   ]
  },
  {
   "cell_type": "code",
   "execution_count": 2,
   "metadata": {
    "collapsed": true
   },
   "outputs": [],
   "source": [
    "stopwords = []"
   ]
  },
  {
   "cell_type": "code",
   "execution_count": 3,
   "metadata": {
    "collapsed": true
   },
   "outputs": [],
   "source": [
    "def load_data(input_name):\n",
    "    \n",
    "    with open(input_name, 'r') as f:\n",
    "        T = f.read().split('\\n')\n",
    "        \n",
    "    Q = int(T[0])\n",
    "    questions = T[1:Q+1]\n",
    "    D = int(T[Q+1])\n",
    "    labels = T[Q+2:Q+2+D]\n",
    "    to_predict = T[Q+3+D:-1]\n",
    "    \n",
    "    y = [int(row.split()[2]) for row in labels]\n",
    "    keys = [row.split()[:2] for row in labels]\n",
    "    \n",
    "    return questions, keys, to_predict, y"
   ]
  },
  {
   "cell_type": "code",
   "execution_count": 4,
   "metadata": {
    "collapsed": true
   },
   "outputs": [],
   "source": [
    "questions, keys, to_predict, y = load_data('input/input00.txt')"
   ]
  },
  {
   "cell_type": "code",
   "execution_count": 5,
   "metadata": {
    "collapsed": true
   },
   "outputs": [],
   "source": [
    "def turn_into_dict_by_keys(questions):\n",
    "    qdict = {}\n",
    "    \n",
    "    for q in questions:\n",
    "        \n",
    "        q = json.loads(q)\n",
    "        key = q.pop('question_key')\n",
    "        qdict[key] = q\n",
    "        \n",
    "    return qdict"
   ]
  },
  {
   "cell_type": "code",
   "execution_count": 6,
   "metadata": {
    "collapsed": true
   },
   "outputs": [],
   "source": [
    "qdict = turn_into_dict_by_keys(questions)"
   ]
  },
  {
   "cell_type": "code",
   "execution_count": 7,
   "metadata": {
    "collapsed": true
   },
   "outputs": [],
   "source": [
    "def extract(qdict, labels):\n",
    "    \n",
    "    features = ['age', 'follow_count', 'view_count', 'context_topic']\n",
    "    \n",
    "    texts = []\n",
    "    feats = []\n",
    "    topics = []\n",
    "    \n",
    "    for lab in labels:\n",
    "        \n",
    "        lab = lab.split()\n",
    "        q1 = qdict[lab[0]]\n",
    "        q2 = qdict[lab[1]]\n",
    "        txt = [q1['question_text'], q2['question_text'], int(lab[-1])]\n",
    "        texts.append(txt)\n",
    "        \n",
    "        ft = [{k:q1[k] for k in features}, {k:q2[k] for k in features}, int(lab[-1])]\n",
    "        feats.append(ft)\n",
    "        \n",
    "        tp = [q1['topics'], q2['topics'], int(lab[-1])]\n",
    "        topics.append(tp)\n",
    "        \n",
    "        \n",
    "    return texts, feats, topics"
   ]
  },
  {
   "cell_type": "code",
   "execution_count": 8,
   "metadata": {
    "collapsed": true
   },
   "outputs": [],
   "source": [
    "def extract_test(qdict):\n",
    "    \n",
    "    features = ['age', 'follow_count', 'view_count', 'context_topic']\n",
    "    \n",
    "    texts = []\n",
    "    feats = []\n",
    "    topics = []\n",
    "    \n",
    "    for lab in labels:\n",
    "        \n",
    "        lab = lab.split()\n",
    "        q1 = qdict[lab[0]]\n",
    "        q2 = qdict[lab[1]]\n",
    "        txt = [q1['question_text'], q2['question_text']]\n",
    "        texts.append(txt)\n",
    "        \n",
    "        ft = [{k:q1[k] for k in features}, {k:q2[k] for k in features}]\n",
    "        feats.append(ft)\n",
    "        \n",
    "        tp = [q1['topics'], q2['topics']]\n",
    "        topics.append(tp)\n",
    "        \n",
    "        \n",
    "    return texts, feats, topics"
   ]
  },
  {
   "cell_type": "code",
   "execution_count": 9,
   "metadata": {
    "collapsed": true
   },
   "outputs": [],
   "source": [
    "import re"
   ]
  },
  {
   "cell_type": "code",
   "execution_count": 10,
   "metadata": {
    "collapsed": true
   },
   "outputs": [],
   "source": [
    "cleaner = re.compile(r'[^a-z0-9 ]')"
   ]
  },
  {
   "cell_type": "code",
   "execution_count": 11,
   "metadata": {
    "collapsed": true
   },
   "outputs": [],
   "source": [
    "def purge(x, space=False):\n",
    "    x = x.lower()\n",
    "    x = cleaner.sub(' ' if space else '', x)\n",
    "    return x"
   ]
  },
  {
   "cell_type": "code",
   "execution_count": 12,
   "metadata": {
    "collapsed": true
   },
   "outputs": [],
   "source": [
    "from collections import defaultdict"
   ]
  },
  {
   "cell_type": "code",
   "execution_count": 13,
   "metadata": {
    "collapsed": true
   },
   "outputs": [],
   "source": [
    "def calc_tfidf(qlist, n_gram=1, max_features=None, stopwords=set(), token_frequency=defaultdict(int)):\n",
    "    \n",
    "    \"\"\"\n",
    "    \n",
    "    liczymy częstotliwość występowania konkretnych tokenów dla listy pytań\n",
    "    \n",
    "    ZAKŁADAMY, ŻE SĄ JUŻ WYCZYSZCZONE\n",
    "    \n",
    "    \"\"\"\n",
    "    \n",
    "    \n",
    "    tfs = []\n",
    "    \n",
    "    for q in qlist:\n",
    "        \n",
    "        q = [x for x in q.split() if x not in stopwords]\n",
    "        c = len(q)\n",
    "        tokens = [' '.join(q[i:i+n_gram]) for i in range(c-n_gram+1)]\n",
    "        \n",
    "        if not isinstance(token_frequency, str):\n",
    "            for token in set(tokens):\n",
    "                token_frequency[token] += 1\n",
    "            \n",
    "        tfs.append(tokens)\n",
    "            \n",
    "    return token_frequency, tfs\n",
    "\n",
    "def process_token_frequency(token_frequencies, n_questions):\n",
    "    \n",
    "    for k, v in token_frequencies.items():\n",
    "        \n",
    "        token_frequencies[k] = np.log10(n_questions/(1+v))\n",
    "        \n",
    "    return token_frequencies\n",
    "\n",
    "def calc_overlap(q1tokens, q2tokens, token_idf):\n",
    "    \n",
    "    \"\"\"\n",
    "    \n",
    "    liczymy część wspólną tokenów, zarówno zwykłą jak i wynikającą z idf\n",
    "    \n",
    "    ZAKŁADAMY, ŻE token_idf JEST PODDANE ZLOGARYTMOWANIU, ODWRÓCENIU ETC.\n",
    "    \n",
    "    \"\"\"\n",
    "    \n",
    "    assert len(q1tokens) == len(q2tokens)\n",
    "    \n",
    "    N = len(q1tokens)\n",
    "    \n",
    "    colnames = ['common_score', 'tfidf_score', 'max_outsider', 'mean_outsider']\n",
    "    scores = []\n",
    "    \n",
    "    for i in range(N):\n",
    "        \n",
    "        q1_tokens = q1tokens[i]\n",
    "        q2_tokens = q2tokens[i]\n",
    "        \n",
    "        if len(q1_tokens) == 0 and len(q2_tokens) == 0:\n",
    "            scores.append([0]*len(colnames))\n",
    "            continue\n",
    "        \n",
    "        common_score = len([x for x in q1_tokens if x in q2_tokens]) + len([x for x in q2_tokens if x in q1_tokens])\n",
    "        common_score /= len(q1_tokens) + len(q2_tokens)\n",
    "        idf_score = sum([token_idf[x] for x in q1_tokens if x in token_idf and x in q2_tokens]) + \\\n",
    "        sum([token_idf[x] for x in q2_tokens if x in q1_tokens and x in token_idf])\n",
    "        idf_denom = sum([token_idf[x] for x in q2_tokens if x in token_idf]) + \\\n",
    "        sum([token_idf[x] for x in q1_tokens if x in token_idf])\n",
    "        idf_score /= idf_denom if idf_denom else 1\n",
    "        \n",
    "        \n",
    "        outsiders = [token_idf[x] for x in q1_tokens if x in token_idf and x not in q2_tokens] + \\\n",
    "                           [token_idf[x] for x in q2_tokens if x in token_idf and x not in q1_tokens]\n",
    "            \n",
    "        max_outsider = max(outsiders) if len(outsiders) else 0\n",
    "        mean_outsider = np.mean(outsiders) if len(outsiders) else 0\n",
    "        \n",
    "        scores.append([common_score, idf_score, max_outsider, mean_outsider])\n",
    "        \n",
    "    return scores\n",
    "\n",
    "def get_train_scores(text_df, n_grams=1, max_features=None, stopwords=stopwords):\n",
    "    tf, q1_tokens = calc_tfidf(text_df['q1'].apply(purge), stopwords=set(stopwords), \n",
    "                               n_gram=n_grams, max_features=max_features)\n",
    "    tf, q2_tokens = calc_tfidf(text_df['q2'].apply(purge), stopwords=set(stopwords), \n",
    "                               token_frequency=tf, n_gram=n_grams, max_features=max_features)\n",
    "    tf = process_token_frequency(tf, text_df.shape[0])\n",
    "    colnames = ['common_score', 'tfidf_score', 'max_outsider', 'mean_outsider']\n",
    "    return pd.DataFrame(calc_overlap(q1_tokens, q2_tokens, tf), \n",
    "                        columns=['{n}_{w}'.format(n=n_grams, w=w) for w in colnames]), tf\n",
    "\n",
    "def get_test_scores(text_df, token_freq, n_grams=1, max_features=None, stopwords=stopwords):\n",
    "    tf, q1_tokens = calc_tfidf(text_df['q1'].apply(purge), stopwords=set(stopwords), \n",
    "                               n_gram=n_grams, max_features=max_features, token_frequency='test')\n",
    "    tf, q2_tokens = calc_tfidf(text_df['q2'].apply(purge), stopwords=set(stopwords), \n",
    "                               token_frequency='test', n_gram=n_grams, max_features=max_features)\n",
    "    colnames = ['common_score', 'tfidf_score', 'max_outsider', 'mean_outsider']\n",
    "    return pd.DataFrame(calc_overlap(q1_tokens, q2_tokens, token_freq), \n",
    "                        columns=['{n}_{w}'.format(n=n_grams, w=w) for w in colnames]), tf\n",
    "\n",
    "def get_question_text_by_key(series, qdict):\n",
    "    \n",
    "    return pd.DataFrame(data=[[qdict[row[0]]['question_text'], qdict[row[1]]['question_text']] for row in series], columns=['q1', 'q2'])"
   ]
  },
  {
   "cell_type": "code",
   "execution_count": 14,
   "metadata": {
    "collapsed": true
   },
   "outputs": [],
   "source": [
    "from sklearn.base import TransformerMixin"
   ]
  },
  {
   "cell_type": "code",
   "execution_count": 15,
   "metadata": {
    "collapsed": true
   },
   "outputs": [],
   "source": [
    "def get_topic_idfs(labels):\n",
    "    \n",
    "    \n",
    "    topic_freq = defaultdict(int)\n",
    "    \n",
    "    for lab in labels:\n",
    "        \n",
    "        for t in lab:\n",
    "\n",
    "            for ds in t:\n",
    "\n",
    "                topic_freq[ds['name']] += 1\n",
    "                \n",
    "    return topic_freq\n",
    "\n",
    "def calc_topic_overlap(topics, topic_idfs):\n",
    "    \n",
    "    scores = []\n",
    "    \n",
    "    for top in topics:\n",
    "        \n",
    "        t1, t2 = top\n",
    "        \n",
    "        t1 = [x['name'] for x in t1]\n",
    "        t2 = [x['name'] for x in t2]\n",
    "        \n",
    "        all_tops = set(t1) | set(t2)\n",
    "        mutual_tops = set(t1) & set(t2)\n",
    "        \n",
    "        if len(all_tops) == 0:\n",
    "            scores.append([0, 0, 0, 0, 0])\n",
    "            continue\n",
    "        \n",
    "        denominator = sum([topic_idfs[x] for x in t1] + [topic_idfs[x] for x in t2])\n",
    "        numerator = sum([topic_idfs[x] for x in t1 if x in t2] + [topic_idfs[x] for x in t2 if x in t1])\n",
    "        \n",
    "        outsiders = [topic_idfs[x] for x in t1 if x in topic_idfs and x not in t2] + \\\n",
    "        [topic_idfs[x] for x in t2 if x in topic_idfs and x not in t2]\n",
    "        l = len(outsiders)\n",
    "        ma = max(outsiders) if l else 0\n",
    "        me = np.mean(outsiders) if l else 0\n",
    "        \n",
    "        \n",
    "        scores.append([len(mutual_tops)/len(all_tops), numerator/denominator if denominator else 0, \n",
    "                       len(mutual_tops), ma, me])\n",
    "        \n",
    "    return pd.DataFrame(scores, columns=['comm_tops', 'idf_tops', 'mutual_cnt', 'max_outsiders', 'mean_outsiders'])"
   ]
  },
  {
   "cell_type": "code",
   "execution_count": 16,
   "metadata": {
    "collapsed": true
   },
   "outputs": [],
   "source": [
    "from collections import Counter"
   ]
  },
  {
   "cell_type": "code",
   "execution_count": 17,
   "metadata": {
    "collapsed": true
   },
   "outputs": [],
   "source": [
    "def get_topic_words_idf(qdict, n_grams=1, filt = lambda x: purge(x, space=True), training=False):\n",
    "    \n",
    "    word_frequencies = defaultdict(int)\n",
    "    topics = {}\n",
    "    \n",
    "    for k, v in qdict.items():\n",
    "        \n",
    "        this_topic = Counter()\n",
    "        top = v['topics']\n",
    "        for ds in top:\n",
    "            grams = filt(ds['name']).split()\n",
    "            c = len(grams)\n",
    "            grams = [' '.join(grams[i:i+n_grams]) for i in range(c-n_grams+1)]\n",
    "            this_topic.update(dict(zip(grams, [1]*len(grams))))\n",
    "            del this_topic['']\n",
    "            \n",
    "        if training:\n",
    "            for word in this_topic.keys():\n",
    "\n",
    "                word_frequencies[word] += 1\n",
    "            \n",
    "        topics[k] = this_topic\n",
    "            \n",
    "    return word_frequencies, topics\n",
    "\n",
    "def calc_words_in_topic_overlap(labels, topics, topic_grams_idf, n_gram):\n",
    "    \n",
    "    scores = []\n",
    "    \n",
    "    for q in labels:\n",
    "        \n",
    "        q1_sum = sum(topics[q[0]].values())\n",
    "        q2_sum = sum(topics[q[1]].values())\n",
    "        \n",
    "        if q1_sum == 0 and q2_sum == 0:\n",
    "            scores.append([0, 0, 0, 0])\n",
    "            continue\n",
    "        \n",
    "        q1_scores = {k:v/q1_sum for k, v in topics[q[0]].items()}\n",
    "        q2_scores = {k:v/q2_sum for k, v in topics[q[1]].items()}\n",
    "        \n",
    "        q1_scores = {k:v*topic_grams_idf[k] for k, v in q1_scores.items()}\n",
    "        q2_scores = {k:v*topic_grams_idf[k] for k, v in q2_scores.items()}\n",
    "        \n",
    "        occurence_score = sum([topics[q[0]][x] for x in topics[q[0]].keys() if x in topics[q[1]]]) + \\\n",
    "            sum([topics[q[1]][x] for x in topics[q[1]].keys() if x in topics[q[0]]])\n",
    "        occurence_score /= q1_sum + q2_sum\n",
    "        \n",
    "        tfidf_score = sum([q1_scores[x] for x in q1_scores.keys() if x in q2_scores]) + \\\n",
    "            sum([q2_scores[x] for x in q2_scores.keys() if x in q1_scores])\n",
    "        tfidf_denom = sum(q1_scores.values()) + sum(q2_scores.values())\n",
    "        if tfidf_denom:\n",
    "            tfidf_score /= sum(q1_scores.values()) + sum(q2_scores.values())\n",
    "            \n",
    "        outsiders = [q1_scores[x] for x in q1_scores.keys() if x not in q2_scores] + \\\n",
    "        [q2_scores[x] for x in q2_scores.keys() if x not in q1_scores]\n",
    "            \n",
    "        l = len(outsiders)\n",
    "        ma = max(outsiders) if l else 0\n",
    "        mo = np.mean(outsiders) if l else 0\n",
    "        \n",
    "        scores.append([occurence_score, tfidf_score, ma, mo])\n",
    "        \n",
    "    return pd.DataFrame(scores, columns=['{}_{}'.format(n_gram, w) for w in ['occurence', 'tfidf', 'max_out', 'mean_out']])"
   ]
  },
  {
   "cell_type": "code",
   "execution_count": 18,
   "metadata": {
    "collapsed": true
   },
   "outputs": [],
   "source": [
    "def get_popularity_features(qdict):\n",
    "    \n",
    "    pop_feats = {}\n",
    "    for k, v in qdict.items():\n",
    "        \n",
    "        topic_followers = [x['followers'] for x in v['topics']]\n",
    "        empty =  len(topic_followers) == 0\n",
    "        this = {'age':v['age'], 'follow_count':v['follow_count'], 'view_count':v['view_count'],\n",
    "                'max_followers': max(topic_followers) if not empty else -1, 'min_followers': min(topic_followers) if not empty else -1, \n",
    "                'mean_followers': np.mean(topic_followers) if not empty else -1}\n",
    "        pop_feats[k] = this\n",
    "        \n",
    "    return pop_feats"
   ]
  },
  {
   "cell_type": "code",
   "execution_count": 19,
   "metadata": {
    "collapsed": true
   },
   "outputs": [],
   "source": [
    "def compare_popularity(pop_feats, labels, sq_quot=np.log10, sq_cnt=np.log1p):\n",
    "    \n",
    "    keys = ['age', 'follow_count', 'view_count', 'max_followers', 'min_followers', 'mean_followers']\n",
    "    \n",
    "    scores = []\n",
    "    \n",
    "    for lab in labels:\n",
    "        \n",
    "        this = {}\n",
    "        for key in keys:\n",
    "            \n",
    "            cnts = np.asarray([pop_feats[x][key] for x in lab])\n",
    "            \n",
    "            if np.any(cnts==0) or np.any(cnts==-1):\n",
    "                this[key] = -1\n",
    "                this[key+'_reverse'] = -1\n",
    "            else:\n",
    "                this[key] = sq_quot(sq_cnt(cnts[0])/sq_cnt(cnts[1]))\n",
    "                this[key+'_reverse'] = sq_quot(sq_cnt(cnts[1])/sq_cnt(cnts[0]))\n",
    "                \n",
    "                \n",
    "        scores.append(this)\n",
    "        \n",
    "    return pd.DataFrame(scores)"
   ]
  },
  {
   "cell_type": "code",
   "execution_count": 20,
   "metadata": {
    "collapsed": true
   },
   "outputs": [],
   "source": [
    "def truncate_dict(qdict, labels):\n",
    "    \n",
    "    new_dict = {}\n",
    "    for row in labels:\n",
    "        \n",
    "        q1, q2 = row\n",
    "        new_dict[q2] = qdict[q2]\n",
    "        new_dict[q1] = qdict[q1]\n",
    "        \n",
    "    return new_dict"
   ]
  },
  {
   "cell_type": "code",
   "execution_count": 21,
   "metadata": {
    "collapsed": true
   },
   "outputs": [],
   "source": [
    "def words_topics_pipeline(qdict, labels, n_grams):\n",
    "    \n",
    "    word_frequencies, topics_gram = get_topic_words_idf(qdict, n_grams=n_grams, training=True)\n",
    "    word_frequencies = process_token_frequency(word_frequencies, n_questions=len(labels))\n",
    "    return calc_words_in_topic_overlap(labels, topics_gram, word_frequencies, n_grams)"
   ]
  },
  {
   "cell_type": "code",
   "execution_count": 243,
   "metadata": {
    "collapsed": true
   },
   "outputs": [],
   "source": [
    "class MyVectorizer(TransformerMixin):\n",
    "    \n",
    "    def fit_transform(self, X, y=None):\n",
    "        return self._train_scores(X)\n",
    "    \n",
    "    def transform(self, X):\n",
    "        \n",
    "        return self._retrieve_scores(X)\n",
    "    \n",
    "    def fit(self, X, y=None):\n",
    "        \n",
    "        self._train_scores(X)\n",
    "        return self \n",
    "    \n",
    "    def get_feature_names(self):\n",
    "        \n",
    "        return self.feats\n",
    "    \n",
    "    def get_params(self, deep=True):\n",
    "        return {}"
   ]
  },
  {
   "cell_type": "code",
   "execution_count": 267,
   "metadata": {
    "collapsed": true
   },
   "outputs": [],
   "source": [
    "class StatsVectorizer(MyVectorizer, TransformerMixin):\n",
    "    \n",
    "    def __init__(self, qdict, sq_quot=np.log10, sq_cnt=np.log1p):\n",
    "        \n",
    "        self.qdict = qdict\n",
    "        self.sq_quot = sq_quot\n",
    "        self.sq_cnt = sq_cnt\n",
    "        \n",
    "    def _calculate_score(self, labels):\n",
    "        \n",
    "        new_dict = truncate_dict(self.qdict, labels)\n",
    "        pop_feats = get_popularity_features(new_dict)\n",
    "        pop_score = compare_popularity(labels=labels, pop_feats=pop_feats, sq_cnt=self.sq_cnt, sq_quot=self.sq_quot)\n",
    "        self.feats = pop_score.columns\n",
    "        return pop_score\n",
    "    \n",
    "    def _train_scores(self, labels):\n",
    "        return self._calculate_score(labels)\n",
    "    \n",
    "    def _retrieve_scores(self, labels):\n",
    "        return self._calculate_score(labels)\n",
    "    \n",
    "    def get_params(self, deep=True):\n",
    "        return {'qdict':self.qdict, 'sq_quot':self.sq_quot, 'sq_cnt':self.sq_cnt}"
   ]
  },
  {
   "cell_type": "code",
   "execution_count": 261,
   "metadata": {
    "collapsed": true
   },
   "outputs": [],
   "source": [
    "class WordInTopicVectorizer(MyVectorizer, TransformerMixin):\n",
    "    \n",
    "    def __init__(self, qdict, n_grams):\n",
    "        \n",
    "        self.qdict = qdict\n",
    "        self.n_grams = n_grams\n",
    "        \n",
    "    def _train_scores(self, labels):\n",
    "        \n",
    "        new_dict = truncate_dict(self.qdict, labels)\n",
    "        word_frequencies, topics_gram = get_topic_words_idf(new_dict, n_grams=self.n_grams, training=True)\n",
    "        self.word_frequencies = process_token_frequency(word_frequencies, n_questions=len(labels))\n",
    "        scores = calc_words_in_topic_overlap(labels, topics_gram, self.word_frequencies, self.n_grams)\n",
    "        self.feats = scores.columns\n",
    "        return scores\n",
    "    \n",
    "    def _retrieve_scores(self, labels):\n",
    "        \n",
    "        new_dict = truncate_dict(self.qdict, labels)\n",
    "        _, topics_gram = get_topic_words_idf(new_dict, n_grams=self.n_grams, training=False)\n",
    "        return calc_words_in_topic_overlap(labels, topics_gram, self.word_frequencies, self.n_grams)\n",
    "    \n",
    "    def get_params(self, deep=True):\n",
    "        return {'n_grams':self.n_grams, 'qdict':self.qdict}"
   ]
  },
  {
   "cell_type": "code",
   "execution_count": 262,
   "metadata": {
    "collapsed": true
   },
   "outputs": [],
   "source": [
    "class TopicVectorizer(MyVectorizer, TransformerMixin):\n",
    "    \n",
    "    def __init__(self, qdict):\n",
    "        \n",
    "        self.qdict = qdict\n",
    "        \n",
    "    def _train_scores(self, labels):\n",
    "        \n",
    "        relevant_topics = [[self.qdict[row[0]]['topics'], self.qdict[row[1]]['topics']] for row in labels]\n",
    "        \n",
    "        topic_freq = get_topic_idfs(relevant_topics)\n",
    "        topic_freq = process_token_frequency(topic_freq, len(relevant_topics))\n",
    "        score_df = calc_topic_overlap(relevant_topics, topic_freq)\n",
    "        \n",
    "        self.topic_freq = topic_freq\n",
    "        self.feats = score_df.columns\n",
    "        return score_df\n",
    "    \n",
    "    def _retrieve_scores(self, labels):\n",
    "        \n",
    "        relevant_topics = [[self.qdict[row[0]]['topics'], self.qdict[row[1]]['topics']] for row in labels]\n",
    "        score_df = calc_topic_overlap(relevant_topics, self.topic_freq)\n",
    "        \n",
    "        return score_df\n",
    "    \n",
    "    def get_params(self, deep=True):\n",
    "        return {'qdict':self.qdict}"
   ]
  },
  {
   "cell_type": "code",
   "execution_count": 263,
   "metadata": {
    "collapsed": true
   },
   "outputs": [],
   "source": [
    "class QuestionTextVectorizer(MyVectorizer, TransformerMixin):\n",
    "    \n",
    "    def __init__(self, n_grams, qdict, stopwords=[]):\n",
    "        \n",
    "        self.n_grams = n_grams\n",
    "        self.stopwords = stopwords\n",
    "        self.qdict = qdict\n",
    "        \n",
    "    def _train_scores(self, question_ids):\n",
    "        \n",
    "        text_df = get_question_text_by_key(question_ids, self.qdict)\n",
    "        score_df, token_freq = get_train_scores(text_df, self.n_grams, stopwords=self.stopwords)\n",
    "        token_freq = process_token_frequency(token_freq, n_questions=len(question_ids))\n",
    "        self.token_freq = token_freq\n",
    "        self.feats = score_df.columns\n",
    "        \n",
    "        return score_df\n",
    "    \n",
    "    def _retrieve_scores(self, question_ids):\n",
    "        \n",
    "        text_df = get_question_text_by_key(question_ids, self.qdict)\n",
    "        score_df, token_freq = get_test_scores(text_df, self.token_freq, self.n_grams, stopwords=self.stopwords)\n",
    "        \n",
    "        return score_df\n",
    "    \n",
    "    def get_params(self, deep=True):\n",
    "        \n",
    "        return {'n_grams': self.n_grams, 'stopwords': self.stopwords, 'qdict':self.qdict}"
   ]
  },
  {
   "cell_type": "code",
   "execution_count": 27,
   "metadata": {
    "collapsed": true
   },
   "outputs": [],
   "source": [
    "from sklearn.pipeline import make_pipeline, FeatureUnion\n",
    "from sklearn.linear_model import LogisticRegression\n",
    "from sklearn.model_selection import cross_val_score"
   ]
  },
  {
   "cell_type": "code",
   "execution_count": 28,
   "metadata": {
    "collapsed": true
   },
   "outputs": [],
   "source": [
    "def test_features_by_permutation(clf, X, y, shuffles):\n",
    "    \n",
    "    diffs = []\n",
    "    N = X.shape[1]\n",
    "    clf.fit(X, y)\n",
    "    ref_score = (clf.predict(X)==y).mean()\n",
    "    \n",
    "    def train_and_test(clf, X, y, n, shuffles):\n",
    "        \n",
    "        X_t = X.copy()\n",
    "        scores = []\n",
    "        for i in range(shuffles):\n",
    "            np.random.shuffle(X_t[:, n])\n",
    "            scores.append((clf.predict(X_t)==y).mean())\n",
    "            \n",
    "        return (n, np.mean(scores))\n",
    "    \n",
    "    diffs = [train_and_test(clf, X, y, i, shuffles) for i in range(N)]\n",
    "    return [(x[0], ref_score-x[1], x[1]) for x in diffs]"
   ]
  },
  {
   "cell_type": "code",
   "execution_count": 29,
   "metadata": {
    "collapsed": true
   },
   "outputs": [],
   "source": [
    "def plot_hist(score_df, col, bins=100, ylim=1000, subplot=111, y=y, label_one='duplicates', label_zero='not duplicates'):\n",
    "    \n",
    "    ones = y == 1\n",
    "    zeros = y == 0\n",
    "    \n",
    "    ax = plt.subplot(subplot)\n",
    "    plt.hist(score_df[col].as_matrix()[ones], color='red', alpha=.5, label=label_one, bins=bins)\n",
    "    plt.hist(score_df[col].as_matrix()[zeros], color='blue', alpha=.5, label=label_zero, bins=bins)\n",
    "    plt.legend(loc='best')\n",
    "    ax.set_yscale('log')\n",
    "    if ylim is not None:\n",
    "        plt.ylim(0, ylim)\n",
    "    if subplot == 111:\n",
    "        plt.show()"
   ]
  },
  {
   "cell_type": "code",
   "execution_count": 30,
   "metadata": {
    "collapsed": true
   },
   "outputs": [],
   "source": [
    "def paint_histograms(pip, X, y):\n",
    "    \n",
    "    x_train, x_test, y_train, y_test = train_test_split(X, np.asarray(y), test_size=.2)\n",
    "    \n",
    "    pip.fit(x_train, y_train)\n",
    "    \n",
    "    transformed = pip.steps[0][1].transform(x_train)\n",
    "    \n",
    "    plt.figure(figsize=(12,9))\n",
    "    \n",
    "    N = transformed.shape[1]\n",
    "    mod = N%2\n",
    "    subplot = '{cols}{rows}'.format(cols=N//2 + mod, rows=N//2) + '{}'\n",
    "    cols = transformed.columns\n",
    "    for i in range(N):\n",
    "        \n",
    "        col = cols[i]\n",
    "        plot_hist(transformed, col, subplot=subplot.format(i+1), ylim=None, y=y_train)\n",
    "\n",
    "        plt.title(col)\n",
    "        \n",
    "    \n",
    "    correct = (pip.predict(x_test) == y_test)\n",
    "    \n",
    "    \n",
    "    plt.figure(figsize=(12,9))\n",
    "    for i in range(N):\n",
    "        \n",
    "        col = cols[i]\n",
    "        plot_hist(pip.steps[0][1].transform(x_test), col, subplot=subplot.format(i+1), ylim=None, y=correct, label_one='correct', label_zero='wrong')\n",
    "\n",
    "        plt.title(col)"
   ]
  },
  {
   "cell_type": "code",
   "execution_count": 31,
   "metadata": {
    "collapsed": true
   },
   "outputs": [],
   "source": [
    "from sklearn.model_selection import train_test_split"
   ]
  },
  {
   "cell_type": "code",
   "execution_count": 32,
   "metadata": {
    "collapsed": true
   },
   "outputs": [],
   "source": [
    "def identity(x):\n",
    "    return x"
   ]
  },
  {
   "cell_type": "code",
   "execution_count": 33,
   "metadata": {
    "collapsed": true
   },
   "outputs": [],
   "source": [
    "from sklearn.pipeline import make_union"
   ]
  },
  {
   "cell_type": "code",
   "execution_count": 35,
   "metadata": {
    "collapsed": true
   },
   "outputs": [],
   "source": [
    "all_features = union.fit_transform(keys)"
   ]
  },
  {
   "cell_type": "code",
   "execution_count": 36,
   "metadata": {
    "collapsed": true
   },
   "outputs": [],
   "source": [
    "columns = np.hstack([x[1].feats for x in union.transformer_list])"
   ]
  },
  {
   "cell_type": "code",
   "execution_count": 40,
   "metadata": {
    "collapsed": true
   },
   "outputs": [],
   "source": [
    "from matplotlib import pyplot as plt"
   ]
  },
  {
   "cell_type": "code",
   "execution_count": 41,
   "metadata": {
    "scrolled": false
   },
   "outputs": [
    {
     "data": {
      "image/png": "[encoded data removed]",
      "text/plain": [
       "<matplotlib.figure.Figure at 0x7faa1daeac18>"
      ]
     },
     "metadata": {},
     "output_type": "display_data"
    }
   ],
   "source": [
    "plt.figure(figsize=(12,12))\n",
    "plt.imshow(np.abs(corrs), cmap='gray', interpolation=None)\n",
    "plt.xticks(range(corrs.shape[0]), columns, rotation=90)\n",
    "plt.yticks(range(corrs.shape[0]), columns)\n",
    "plt.show()"
   ]
  },
  {
   "cell_type": "code",
   "execution_count": 52,
   "metadata": {
    "collapsed": true
   },
   "outputs": [],
   "source": [
    "from sklearn.decomposition import PCA"
   ]
  },
  {
   "cell_type": "code",
   "execution_count": 43,
   "metadata": {
    "collapsed": true
   },
   "outputs": [],
   "source": [
    "from sklearn.model_selection import StratifiedKFold"
   ]
  },
  {
   "cell_type": "code",
   "execution_count": 49,
   "metadata": {
    "collapsed": true
   },
   "outputs": [],
   "source": [
    "from sklearn.metrics import make_scorer, log_loss"
   ]
  },
  {
   "cell_type": "code",
   "execution_count": 61,
   "metadata": {
    "collapsed": true
   },
   "outputs": [],
   "source": [
    "trains = []\n",
    "tests = []\n",
    "\n",
    "for train, test in skf.split(keys, y):\n",
    "    \n",
    "    lr = pip.fit(keys[train], y[train])\n",
    "    trains.append(lr.score(keys[train], y[train]))\n",
    "    tests.append(lr.score(keys[test], y[test]))"
   ]
  },
  {
   "cell_type": "code",
   "execution_count": 70,
   "metadata": {
    "collapsed": true
   },
   "outputs": [],
   "source": [
    "from sklearn.ensemble import RandomForestClassifier"
   ]
  },
  {
   "cell_type": "code",
   "execution_count": 72,
   "metadata": {
    "collapsed": true
   },
   "outputs": [],
   "source": [
    "def score_on_train_and_test(clf, train_x, train_y, test_x, test_y):\n",
    "    \n",
    "    clf.fit(train_x, train_y)\n",
    "    \n",
    "    return [clf.score(train_x, train_y), clf.score(test_x, test_y)]"
   ]
  },
  {
   "cell_type": "code",
   "execution_count": 73,
   "metadata": {
    "collapsed": true
   },
   "outputs": [],
   "source": [
    "from sklearn.externals.joblib import Parallel, delayed"
   ]
  },
  {
   "cell_type": "code",
   "execution_count": 77,
   "metadata": {
    "collapsed": true
   },
   "outputs": [],
   "source": [
    "def train_val_score(clf, X, y, cv=5):\n",
    "    \n",
    "    skf = StratifiedKFold(n_splits=cv)\n",
    "    \n",
    "    scores = Parallel(n_jobs=-1)(delayed(score_on_train_and_test)(clf, keys[train], y[train], keys[test], y[test]) for train, test in skf.split(keys, y))\n",
    "    return scores"
   ]
  },
  {
   "cell_type": "code",
   "execution_count": 81,
   "metadata": {},
   "outputs": [
    {
     "name": "stdout",
     "output_type": "stream",
     "text": [
      "0 0\n",
      "0 1\n",
      "0 2\n",
      "0 3\n",
      "0 4\n",
      "1 0\n",
      "1 1\n",
      "1 2\n",
      "1 3\n",
      "1 4\n"
     ]
    }
   ],
   "source": [
    "train_means = np.zeros((2, 5))\n",
    "test_means = np.zeros((2, 5))\n",
    "\n",
    "for i, clf in enumerate([LogisticRegression(C=5), RandomForestClassifier(n_estimators=50, max_depth=15)]):\n",
    "    \n",
    "    for j, vectorizer in enumerate([QuestionTextVectorizer(n_grams=1, qdict=qdict), StatsVectorizer(qdict), \n",
    "                   WordInTopicVectorizer(qdict, n_grams=1), TopicVectorizer(qdict), union]):\n",
    "        \n",
    "        pip = make_pipeline(vectorizer, clf)\n",
    "        scores = np.asarray(train_val_score(pip, keys, y))\n",
    "        means = np.mean(scores, axis=0)\n",
    "        train_means[i, j] = means[0]\n",
    "        test_means[i, j] = means[1]\n",
    "        \n",
    "        print(i, j)"
   ]
  },
  {
   "cell_type": "code",
   "execution_count": 230,
   "metadata": {
    "collapsed": true
   },
   "outputs": [],
   "source": [
    "def choose_best(X, fit_scores, threshold, pass_corrs_in_lieu_of_features=True):\n",
    "    \n",
    "    N = X.shape[1]\n",
    "    corrs_bool = np.corrcoef(X, rowvar=0) > threshold\n",
    "    \n",
    "    to_pass = list(range(N))\n",
    "    for i in range(N):\n",
    "        for j in range(i+1, N):\n",
    "            \n",
    "            if corrs_bool[i, j]:\n",
    "                \n",
    "                to_remove = i if fit_scores[i] < fit_scores[j] else j\n",
    "                if to_remove in to_pass:\n",
    "                    to_pass.remove(to_remove)\n",
    "                \n",
    "                \n",
    "    return to_pass"
   ]
  },
  {
   "cell_type": "code",
   "execution_count": 231,
   "metadata": {
    "collapsed": true
   },
   "outputs": [],
   "source": [
    "from sklearn.model_selection import RandomizedSearchCV"
   ]
  },
  {
   "cell_type": "code",
   "execution_count": 232,
   "metadata": {
    "collapsed": true
   },
   "outputs": [],
   "source": [
    "params = {'n_estimators': range(100, 500, 10), 'max_depth': [None] + [5, 10, 15], \n",
    "          'max_features': range(10, 25)}"
   ]
  },
  {
   "cell_type": "code",
   "execution_count": 268,
   "metadata": {
    "collapsed": true
   },
   "outputs": [],
   "source": [
    "union = make_union(QuestionTextVectorizer(n_grams=1, qdict=qdict), StatsVectorizer(qdict), \n",
    "                   WordInTopicVectorizer(qdict, n_grams=1), TopicVectorizer(qdict))"
   ]
  },
  {
   "cell_type": "code",
   "execution_count": 269,
   "metadata": {
    "collapsed": true
   },
   "outputs": [],
   "source": [
    "searcher = RandomizedSearchCV(make_pipeline(union, RandomForestClassifier()), param_distributions=params, \n",
    "                             cv=3, n_iter=15, verbose=2, n_jobs=-1)"
   ]
  },
  {
   "cell_type": "code",
   "execution_count": 271,
   "metadata": {
    "collapsed": true
   },
   "outputs": [],
   "source": [
    "pip = make_pipeline(union, RandomForestClassifier(n_estimators=50, max_depth=15))"
   ]
  },
  {
   "cell_type": "code",
   "execution_count": 272,
   "metadata": {},
   "outputs": [
    {
     "data": {
      "text/plain": [
       "Pipeline(steps=[('featureunion', FeatureUnion(n_jobs=1,\n",
       "       transformer_list=[('questiontextvectorizer', <__main__.QuestionTextVectorizer object at 0x7faa1dcecf28>), ('statsvectorizer', <__main__.StatsVectorizer object at 0x7faa1dcecf60>), ('wordintopicvectorizer', <__main__.WordInTopicVectorizer object a...imators=50, n_jobs=1, oob_score=False, random_state=None,\n",
       "            verbose=0, warm_start=False))])"
      ]
     },
     "execution_count": 272,
     "metadata": {},
     "output_type": "execute_result"
    }
   ],
   "source": [
    "pip.fit(keys, y)"
   ]
  },
  {
   "cell_type": "code",
   "execution_count": 274,
   "metadata": {
    "collapsed": true
   },
   "outputs": [],
   "source": [
    "with open('output/output00.txt', 'r') as f:\n",
    "    O = f.read().split('\\n')"
   ]
  },
  {
   "cell_type": "code",
   "execution_count": 278,
   "metadata": {
    "collapsed": true
   },
   "outputs": [],
   "source": [
    "to_predict = [row.split() for row in to_predict]"
   ]
  },
  {
   "cell_type": "code",
   "execution_count": 284,
   "metadata": {
    "collapsed": true
   },
   "outputs": [],
   "source": [
    "test_lab = np.asarray([int(row.split()[2]) for row in O[:-1]])"
   ]
  },
  {
   "cell_type": "code",
   "execution_count": 287,
   "metadata": {},
   "outputs": [
    {
     "data": {
      "text/plain": [
       "0.78066666666666662"
      ]
     },
     "execution_count": 287,
     "metadata": {},
     "output_type": "execute_result"
    }
   ],
   "source": [
    "(pip.predict(to_predict) == test_lab).mean()"
   ]
  },
  {
   "cell_type": "code",
   "execution_count": 315,
   "metadata": {
    "collapsed": true
   },
   "outputs": [],
   "source": [
    "scores = test_features_by_permutation(rfc, all_features, y, shuffles=50)"
   ]
  }
 ],
 "metadata": {
  "kernelspec": {
   "display_name": "Python 3",
   "language": "python",
   "name": "python3"
  },
  "language_info": {
   "codemirror_mode": {
    "name": "ipython",
    "version": 3
   },
   "file_extension": ".py",
   "mimetype": "text/x-python",
   "name": "python",
   "nbconvert_exporter": "python",
   "pygments_lexer": "ipython3",
   "version": "3.5.2"
  }
 },
 "nbformat": 4,
 "nbformat_minor": 2
}
